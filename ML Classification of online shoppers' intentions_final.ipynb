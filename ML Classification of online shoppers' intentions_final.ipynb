{
 "cells": [
  {
   "cell_type": "markdown",
   "id": "b328ad35",
   "metadata": {},
   "source": [
    "# ML Classification of online shoppers' intentions"
   ]
  },
  {
   "cell_type": "code",
   "execution_count": 1,
   "id": "e1a95fc8",
   "metadata": {},
   "outputs": [],
   "source": [
    "%matplotlib inline"
   ]
  },
  {
   "cell_type": "code",
   "execution_count": 102,
   "id": "8b983e87",
   "metadata": {},
   "outputs": [],
   "source": [
    "import numpy as np\n",
    "import pandas as pd\n",
    "import matplotlib.pyplot as plt\n",
    "import calendar\n",
    "import datetime\n",
    "from datetime import datetime\n",
    "import seaborn as sns\n",
    "from sklearn.preprocessing import LabelEncoder, StandardScaler\n",
    "\n",
    "import imblearn\n",
    "from imblearn.over_sampling import SMOTE\n",
    "\n",
    "\n",
    "from collections import Counter\n",
    "import string, re\n",
    "from sklearn.linear_model import LogisticRegression\n",
    "from sklearn.model_selection import train_test_split, StratifiedKFold, GridSearchCV\n",
    "from sklearn.metrics import accuracy_score, confusion_matrix, classification_report\n",
    "from sklearn.ensemble import RandomForestClassifier\n",
    "from sklearn.naive_bayes import GaussianNB\n",
    "from sklearn.model_selection import cross_val_score\n",
    "from sklearn.pipeline import Pipeline\n",
    "from sklearn.ensemble import AdaBoostClassifier, GradientBoostingClassifier\n",
    "from sklearn.metrics import classification_report, confusion_matrix, ConfusionMatrixDisplay\n",
    "from sklearn.pipeline import make_union, make_pipeline\n",
    "from sklearn.preprocessing import MinMaxScaler\n",
    "import pickle\n",
    "\n",
    "\n",
    "\n",
    "\n",
    "from sklearn.decomposition import PCA\n",
    "from sklearn.manifold import Isomap, TSNE"
   ]
  },
  {
   "cell_type": "markdown",
   "id": "4d8aefb6",
   "metadata": {},
   "source": [
    "#### Abstract\n",
    "\n",
    "With this task we will try to solve a binary classification problem - to predict if a shopper will make a purchase or not. The dataset is highly imbalanced - we will approach the problem by using SMOTE to resample the 2 classes. We also will use PCA for dimensionality reduction after transforming all categorical features to numeric - we have reduced the attributes to 57 from 75, which explain 95% of the variance of the data. We still expect that the model will overfit on train data.\n",
    "\n",
    "Our baseline classification model will be Naive Bayes. We will compare it's performance with Random forest classifier and Ada Boost.\n",
    "\n",
    "Metrics that we used is F1 score macro - will still reflect true model performance even when the classes are skewed.\n",
    "\n",
    "Best model is: Ada Boost with Logistic Regression, converges fast and has a good testing score of 0.71. Optimized Random Forest has a higher testing score, but converges much slower, thus is costly."
   ]
  },
  {
   "cell_type": "markdown",
   "id": "d5f39109",
   "metadata": {},
   "source": [
    "## 1. Task Summry"
   ]
  },
  {
   "cell_type": "markdown",
   "id": "0f38b1fd",
   "metadata": {},
   "source": [
    "### 1.1 Task Description\n",
    "\n",
    "Please examine the dataset with Google Analytics data of online shop visitors provided on the following link: https://archive.ics.uci.edu/ml/machine-learning-databases/00468/\n",
    "The target variable “Revenue” labels the visitors of the online shop as clients that have made a purchase (true) and clients that haven’t completed a purchase (false).\n",
    "Please tune, test and evaluate with the appropriate metrics at least two machine learning classification algorithms for the purpose of creating a predictive model that generalizes well on new clients predicting whether a client is going to make a purchase from a website or not based on the explanatory variables provided in the dataset. Please comment on the results and select the one best performing algorithm for the task at hand. Comment on the possible business applications of the final predictive model selected.\n",
    "\n",
    "\n",
    "\n",
    "\n",
    "\n",
    "### 1.2 Data description\n",
    "\n",
    "\n",
    "The data set is a set of 18 features: 10 numerical and 8 categorical. This dataset has 12330 entries, split into 10,422 entries where the shoppers did not purchase and 1908 entries where the shoppers did purchase. Each entry is based on unique users in a 1-year period to avoid any trends specific to a specific campaign.\n",
    "\n",
    "\n",
    "Column Descriptions:\n",
    "- Administrative: This is the number of pages of this type (administrative) that the user visited.\n",
    "\n",
    "- Administrative_Duration: This is the amount of time spent in this category of pages.\n",
    "\n",
    "- Informational: This is the number of pages of this type (informational) that the user visited.\n",
    "\n",
    "- Informational_Duration: This is the amount of time spent in this category of pages.\n",
    "\n",
    "- ProductRelated: This is the number of pages of this type (product related) that the user visited.\n",
    "\n",
    "- ProductRelated_Duration: This is the amount of time spent in this category of pages.\n",
    "\n",
    "- BounceRates: The percentage of visitors who enter the website through that page and exit without triggering any additional tasks.\n",
    "\n",
    "- ExitRates: The percentage of pageviews on the website that end at that specific page.\n",
    "\n",
    "- PageValues: The average value of the page averaged over the value of the target page and/or the completion of an eCommerce transaction.\n",
    "\n",
    "\n",
    "- SpecialDay: This value represents the closeness of the browsing date to special days or holidays (eg Mother's Day or Valentine's day) in which the transaction is more likely to be finalized. More information about how this value is calculated below.\n",
    "\n",
    "- Month: Contains the month the pageview occurred, in string form.\n",
    "\n",
    "- OperatingSystems: An integer value representing the operating system that the user was on when viewing the page.\n",
    "\n",
    "- Browser: An integer value representing the browser that the user was using to view the page.\n",
    "\n",
    "- Region: An integer value representing which region the user is located in.\n",
    "\n",
    "- TrafficType: An integer value representing what type of traffic the user is categorized into.\n",
    "\n",
    "\n",
    "- VisitorType: A string representing whether a visitor is New Visitor, Returning Visitor, or Other.\n",
    "\n",
    "- Weekend: A boolean representing whether the session is on a weekend.\n",
    "\n",
    "- Revenue: A boolean representing whether or not the user completed the purchase."
   ]
  },
  {
   "cell_type": "markdown",
   "id": "56d746f5",
   "metadata": {},
   "source": [
    "## 2. Exploratory Data Analysis"
   ]
  },
  {
   "cell_type": "code",
   "execution_count": 8,
   "id": "415a0585",
   "metadata": {},
   "outputs": [],
   "source": [
    "path = r\"C:\\Users\\PC\\Desktop\\Data Science\\online_shoppers_intention.csv\""
   ]
  },
  {
   "cell_type": "code",
   "execution_count": 9,
   "id": "a2d61eb7",
   "metadata": {},
   "outputs": [],
   "source": [
    "online_shop = pd.read_csv(path, sep=',')"
   ]
  },
  {
   "cell_type": "code",
   "execution_count": 10,
   "id": "924452e4",
   "metadata": {},
   "outputs": [
    {
     "data": {
      "text/plain": [
       "(12330, 18)"
      ]
     },
     "execution_count": 10,
     "metadata": {},
     "output_type": "execute_result"
    }
   ],
   "source": [
    "### 12330 records and 18 attributes\n",
    "\n",
    "online_shop.shape"
   ]
  },
  {
   "cell_type": "code",
   "execution_count": 11,
   "id": "6f1b82df",
   "metadata": {},
   "outputs": [
    {
     "data": {
      "text/plain": [
       "Administrative               int64\n",
       "Administrative_Duration    float64\n",
       "Informational                int64\n",
       "Informational_Duration     float64\n",
       "ProductRelated               int64\n",
       "ProductRelated_Duration    float64\n",
       "BounceRates                float64\n",
       "ExitRates                  float64\n",
       "PageValues                 float64\n",
       "SpecialDay                 float64\n",
       "Month                       object\n",
       "OperatingSystems             int64\n",
       "Browser                      int64\n",
       "Region                       int64\n",
       "TrafficType                  int64\n",
       "VisitorType                 object\n",
       "Weekend                       bool\n",
       "Revenue                       bool\n",
       "dtype: object"
      ]
     },
     "execution_count": 11,
     "metadata": {},
     "output_type": "execute_result"
    }
   ],
   "source": [
    "### Month,OperatingSystems,Browser,Region,TrafficType,VisitorType,Weekend,Revenue are categorical variables\n",
    "### that have to be converted to numeric\n",
    "\n",
    "online_shop.dtypes"
   ]
  },
  {
   "cell_type": "code",
   "execution_count": 12,
   "id": "ddbbaba6",
   "metadata": {},
   "outputs": [
    {
     "data": {
      "text/html": [
       "<div>\n",
       "<style scoped>\n",
       "    .dataframe tbody tr th:only-of-type {\n",
       "        vertical-align: middle;\n",
       "    }\n",
       "\n",
       "    .dataframe tbody tr th {\n",
       "        vertical-align: top;\n",
       "    }\n",
       "\n",
       "    .dataframe thead th {\n",
       "        text-align: right;\n",
       "    }\n",
       "</style>\n",
       "<table border=\"1\" class=\"dataframe\">\n",
       "  <thead>\n",
       "    <tr style=\"text-align: right;\">\n",
       "      <th></th>\n",
       "      <th>count</th>\n",
       "      <th>mean</th>\n",
       "      <th>std</th>\n",
       "      <th>min</th>\n",
       "      <th>25%</th>\n",
       "      <th>50%</th>\n",
       "      <th>75%</th>\n",
       "      <th>max</th>\n",
       "    </tr>\n",
       "  </thead>\n",
       "  <tbody>\n",
       "    <tr>\n",
       "      <th>Administrative</th>\n",
       "      <td>12330.0</td>\n",
       "      <td>2.315166</td>\n",
       "      <td>3.321784</td>\n",
       "      <td>0.0</td>\n",
       "      <td>0.000000</td>\n",
       "      <td>1.000000</td>\n",
       "      <td>4.000000</td>\n",
       "      <td>27.000000</td>\n",
       "    </tr>\n",
       "    <tr>\n",
       "      <th>Administrative_Duration</th>\n",
       "      <td>12330.0</td>\n",
       "      <td>80.818611</td>\n",
       "      <td>176.779107</td>\n",
       "      <td>0.0</td>\n",
       "      <td>0.000000</td>\n",
       "      <td>7.500000</td>\n",
       "      <td>93.256250</td>\n",
       "      <td>3398.750000</td>\n",
       "    </tr>\n",
       "    <tr>\n",
       "      <th>Informational</th>\n",
       "      <td>12330.0</td>\n",
       "      <td>0.503569</td>\n",
       "      <td>1.270156</td>\n",
       "      <td>0.0</td>\n",
       "      <td>0.000000</td>\n",
       "      <td>0.000000</td>\n",
       "      <td>0.000000</td>\n",
       "      <td>24.000000</td>\n",
       "    </tr>\n",
       "    <tr>\n",
       "      <th>Informational_Duration</th>\n",
       "      <td>12330.0</td>\n",
       "      <td>34.472398</td>\n",
       "      <td>140.749294</td>\n",
       "      <td>0.0</td>\n",
       "      <td>0.000000</td>\n",
       "      <td>0.000000</td>\n",
       "      <td>0.000000</td>\n",
       "      <td>2549.375000</td>\n",
       "    </tr>\n",
       "    <tr>\n",
       "      <th>ProductRelated</th>\n",
       "      <td>12330.0</td>\n",
       "      <td>31.731468</td>\n",
       "      <td>44.475503</td>\n",
       "      <td>0.0</td>\n",
       "      <td>7.000000</td>\n",
       "      <td>18.000000</td>\n",
       "      <td>38.000000</td>\n",
       "      <td>705.000000</td>\n",
       "    </tr>\n",
       "    <tr>\n",
       "      <th>ProductRelated_Duration</th>\n",
       "      <td>12330.0</td>\n",
       "      <td>1194.746220</td>\n",
       "      <td>1913.669288</td>\n",
       "      <td>0.0</td>\n",
       "      <td>184.137500</td>\n",
       "      <td>598.936905</td>\n",
       "      <td>1464.157213</td>\n",
       "      <td>63973.522230</td>\n",
       "    </tr>\n",
       "    <tr>\n",
       "      <th>BounceRates</th>\n",
       "      <td>12330.0</td>\n",
       "      <td>0.022191</td>\n",
       "      <td>0.048488</td>\n",
       "      <td>0.0</td>\n",
       "      <td>0.000000</td>\n",
       "      <td>0.003112</td>\n",
       "      <td>0.016813</td>\n",
       "      <td>0.200000</td>\n",
       "    </tr>\n",
       "    <tr>\n",
       "      <th>ExitRates</th>\n",
       "      <td>12330.0</td>\n",
       "      <td>0.043073</td>\n",
       "      <td>0.048597</td>\n",
       "      <td>0.0</td>\n",
       "      <td>0.014286</td>\n",
       "      <td>0.025156</td>\n",
       "      <td>0.050000</td>\n",
       "      <td>0.200000</td>\n",
       "    </tr>\n",
       "    <tr>\n",
       "      <th>PageValues</th>\n",
       "      <td>12330.0</td>\n",
       "      <td>5.889258</td>\n",
       "      <td>18.568437</td>\n",
       "      <td>0.0</td>\n",
       "      <td>0.000000</td>\n",
       "      <td>0.000000</td>\n",
       "      <td>0.000000</td>\n",
       "      <td>361.763742</td>\n",
       "    </tr>\n",
       "    <tr>\n",
       "      <th>SpecialDay</th>\n",
       "      <td>12330.0</td>\n",
       "      <td>0.061427</td>\n",
       "      <td>0.198917</td>\n",
       "      <td>0.0</td>\n",
       "      <td>0.000000</td>\n",
       "      <td>0.000000</td>\n",
       "      <td>0.000000</td>\n",
       "      <td>1.000000</td>\n",
       "    </tr>\n",
       "    <tr>\n",
       "      <th>OperatingSystems</th>\n",
       "      <td>12330.0</td>\n",
       "      <td>2.124006</td>\n",
       "      <td>0.911325</td>\n",
       "      <td>1.0</td>\n",
       "      <td>2.000000</td>\n",
       "      <td>2.000000</td>\n",
       "      <td>3.000000</td>\n",
       "      <td>8.000000</td>\n",
       "    </tr>\n",
       "    <tr>\n",
       "      <th>Browser</th>\n",
       "      <td>12330.0</td>\n",
       "      <td>2.357097</td>\n",
       "      <td>1.717277</td>\n",
       "      <td>1.0</td>\n",
       "      <td>2.000000</td>\n",
       "      <td>2.000000</td>\n",
       "      <td>2.000000</td>\n",
       "      <td>13.000000</td>\n",
       "    </tr>\n",
       "    <tr>\n",
       "      <th>Region</th>\n",
       "      <td>12330.0</td>\n",
       "      <td>3.147364</td>\n",
       "      <td>2.401591</td>\n",
       "      <td>1.0</td>\n",
       "      <td>1.000000</td>\n",
       "      <td>3.000000</td>\n",
       "      <td>4.000000</td>\n",
       "      <td>9.000000</td>\n",
       "    </tr>\n",
       "    <tr>\n",
       "      <th>TrafficType</th>\n",
       "      <td>12330.0</td>\n",
       "      <td>4.069586</td>\n",
       "      <td>4.025169</td>\n",
       "      <td>1.0</td>\n",
       "      <td>2.000000</td>\n",
       "      <td>2.000000</td>\n",
       "      <td>4.000000</td>\n",
       "      <td>20.000000</td>\n",
       "    </tr>\n",
       "  </tbody>\n",
       "</table>\n",
       "</div>"
      ],
      "text/plain": [
       "                           count         mean          std  min         25%  \\\n",
       "Administrative           12330.0     2.315166     3.321784  0.0    0.000000   \n",
       "Administrative_Duration  12330.0    80.818611   176.779107  0.0    0.000000   \n",
       "Informational            12330.0     0.503569     1.270156  0.0    0.000000   \n",
       "Informational_Duration   12330.0    34.472398   140.749294  0.0    0.000000   \n",
       "ProductRelated           12330.0    31.731468    44.475503  0.0    7.000000   \n",
       "ProductRelated_Duration  12330.0  1194.746220  1913.669288  0.0  184.137500   \n",
       "BounceRates              12330.0     0.022191     0.048488  0.0    0.000000   \n",
       "ExitRates                12330.0     0.043073     0.048597  0.0    0.014286   \n",
       "PageValues               12330.0     5.889258    18.568437  0.0    0.000000   \n",
       "SpecialDay               12330.0     0.061427     0.198917  0.0    0.000000   \n",
       "OperatingSystems         12330.0     2.124006     0.911325  1.0    2.000000   \n",
       "Browser                  12330.0     2.357097     1.717277  1.0    2.000000   \n",
       "Region                   12330.0     3.147364     2.401591  1.0    1.000000   \n",
       "TrafficType              12330.0     4.069586     4.025169  1.0    2.000000   \n",
       "\n",
       "                                50%          75%           max  \n",
       "Administrative             1.000000     4.000000     27.000000  \n",
       "Administrative_Duration    7.500000    93.256250   3398.750000  \n",
       "Informational              0.000000     0.000000     24.000000  \n",
       "Informational_Duration     0.000000     0.000000   2549.375000  \n",
       "ProductRelated            18.000000    38.000000    705.000000  \n",
       "ProductRelated_Duration  598.936905  1464.157213  63973.522230  \n",
       "BounceRates                0.003112     0.016813      0.200000  \n",
       "ExitRates                  0.025156     0.050000      0.200000  \n",
       "PageValues                 0.000000     0.000000    361.763742  \n",
       "SpecialDay                 0.000000     0.000000      1.000000  \n",
       "OperatingSystems           2.000000     3.000000      8.000000  \n",
       "Browser                    2.000000     2.000000     13.000000  \n",
       "Region                     3.000000     4.000000      9.000000  \n",
       "TrafficType                2.000000     4.000000     20.000000  "
      ]
     },
     "execution_count": 12,
     "metadata": {},
     "output_type": "execute_result"
    }
   ],
   "source": [
    "### count of each attribute is 12330, thus no missing data\n",
    "\n",
    "online_shop.describe().T"
   ]
  },
  {
   "cell_type": "code",
   "execution_count": 13,
   "id": "861892ec",
   "metadata": {
    "scrolled": false
   },
   "outputs": [
    {
     "data": {
      "text/plain": [
       "Administrative             0\n",
       "Administrative_Duration    0\n",
       "Informational              0\n",
       "Informational_Duration     0\n",
       "ProductRelated             0\n",
       "ProductRelated_Duration    0\n",
       "BounceRates                0\n",
       "ExitRates                  0\n",
       "PageValues                 0\n",
       "SpecialDay                 0\n",
       "Month                      0\n",
       "OperatingSystems           0\n",
       "Browser                    0\n",
       "Region                     0\n",
       "TrafficType                0\n",
       "VisitorType                0\n",
       "Weekend                    0\n",
       "Revenue                    0\n",
       "dtype: int64"
      ]
     },
     "execution_count": 13,
     "metadata": {},
     "output_type": "execute_result"
    }
   ],
   "source": [
    "### double check for missing values\n",
    "online_shop.isna().sum()"
   ]
  },
  {
   "cell_type": "code",
   "execution_count": 14,
   "id": "051adf59",
   "metadata": {},
   "outputs": [],
   "source": []
  },
  {
   "cell_type": "code",
   "execution_count": 15,
   "id": "157ad416",
   "metadata": {},
   "outputs": [
    {
     "name": "stderr",
     "output_type": "stream",
     "text": [
      "D:\\Anaconda3\\lib\\site-packages\\pandas\\core\\indexing.py:670: SettingWithCopyWarning: \n",
      "A value is trying to be set on a copy of a slice from a DataFrame\n",
      "\n",
      "See the caveats in the documentation: https://pandas.pydata.org/pandas-docs/stable/user_guide/indexing.html#returning-a-view-versus-a-copy\n",
      "  iloc._setitem_with_indexer(indexer, value)\n"
     ]
    }
   ],
   "source": [
    "### Convert Months to date time for visualization purposes - time series trendline\n",
    "online_shop.Month.loc[online_shop.Month == 'June'] = 'Jun'"
   ]
  },
  {
   "cell_type": "code",
   "execution_count": 16,
   "id": "4d7099f6",
   "metadata": {
    "scrolled": true
   },
   "outputs": [
    {
     "data": {
      "text/plain": [
       "array(['Feb', 'Mar', 'May', 'Oct', 'Jun', 'Jul', 'Aug', 'Nov', 'Sep',\n",
       "       'Dec'], dtype=object)"
      ]
     },
     "execution_count": 16,
     "metadata": {},
     "output_type": "execute_result"
    }
   ],
   "source": [
    "online_shop.Month.unique()"
   ]
  },
  {
   "cell_type": "code",
   "execution_count": 18,
   "id": "05cad1ea",
   "metadata": {},
   "outputs": [],
   "source": [
    "online_shop['date_time'] = pd.to_datetime(online_shop.Month.astype(str) ,format='%b').dt.month"
   ]
  },
  {
   "cell_type": "markdown",
   "id": "766e0ffa",
   "metadata": {},
   "source": [
    "## 2.1 Data Vizualization"
   ]
  },
  {
   "cell_type": "markdown",
   "id": "cee1138e",
   "metadata": {},
   "source": [
    "**The target value is Revenue and the whole purpose of collecting the data is to predict if a customer will or will not make a purchase. Based on the categorical variables we can make some assumptions/hypotheses on what factors might influence customers' behavior in online shop, such as:**\n",
    "* is there a peak in purchases during a specific month\n",
    "* does a Region has an impact on sales\n",
    "* is there a difference between weekend and weekday purchasing behaviors\n",
    "* is there an outstanding type of shopper that purchases more often than the others"
   ]
  },
  {
   "cell_type": "markdown",
   "id": "6c6252b5",
   "metadata": {},
   "source": [
    "### Target Label - Revenue "
   ]
  },
  {
   "cell_type": "code",
   "execution_count": 19,
   "id": "3278e44a",
   "metadata": {
    "scrolled": true
   },
   "outputs": [],
   "source": [
    "rev = online_shop.groupby('Revenue').agg({'Revenue': ['count']}).reset_index()\n",
    "rev.columns = rev.columns.droplevel(0)\n",
    "rev.rename(columns = {'':'Purchase'},inplace = True)"
   ]
  },
  {
   "cell_type": "code",
   "execution_count": 20,
   "id": "5865fdd7",
   "metadata": {},
   "outputs": [
    {
     "data": {
      "text/html": [
       "<div>\n",
       "<style scoped>\n",
       "    .dataframe tbody tr th:only-of-type {\n",
       "        vertical-align: middle;\n",
       "    }\n",
       "\n",
       "    .dataframe tbody tr th {\n",
       "        vertical-align: top;\n",
       "    }\n",
       "\n",
       "    .dataframe thead th {\n",
       "        text-align: right;\n",
       "    }\n",
       "</style>\n",
       "<table border=\"1\" class=\"dataframe\">\n",
       "  <thead>\n",
       "    <tr style=\"text-align: right;\">\n",
       "      <th></th>\n",
       "      <th>Purchase</th>\n",
       "      <th>count</th>\n",
       "    </tr>\n",
       "  </thead>\n",
       "  <tbody>\n",
       "    <tr>\n",
       "      <th>0</th>\n",
       "      <td>False</td>\n",
       "      <td>10422</td>\n",
       "    </tr>\n",
       "    <tr>\n",
       "      <th>1</th>\n",
       "      <td>True</td>\n",
       "      <td>1908</td>\n",
       "    </tr>\n",
       "  </tbody>\n",
       "</table>\n",
       "</div>"
      ],
      "text/plain": [
       "   Purchase  count\n",
       "0     False  10422\n",
       "1      True   1908"
      ]
     },
     "execution_count": 20,
     "metadata": {},
     "output_type": "execute_result"
    }
   ],
   "source": [
    "rev"
   ]
  },
  {
   "cell_type": "code",
   "execution_count": 21,
   "id": "677ffc00",
   "metadata": {
    "scrolled": false
   },
   "outputs": [
    {
     "data": {
      "image/png": "[encoded data removed]",
      "text/plain": [
       "<Figure size 576x360 with 1 Axes>"
      ]
     },
     "metadata": {
      "needs_background": "light"
     },
     "output_type": "display_data"
    }
   ],
   "source": [
    "plt.figure(figsize=(8,5))\n",
    "sns.barplot(data=rev, x=\"Purchase\", y=\"count\", hue=\"Purchase\",palette = 'pastel')\n",
    "plt.show()"
   ]
  },
  {
   "cell_type": "markdown",
   "id": "b352992c",
   "metadata": {},
   "source": [
    "We have a highly imbalanced dataset - True values are only 15% of all records. The assumption is that the model will 'learn' to recognize False records better than True values, thus it will get a pretty high accuracy for predicting the majority class and fail to capture the minority class. Most machine learning algorithms work best when the number of samples in each class is about equal. This is because most algorithms are designed to maximize accuracy and reduce errors.\n",
    "\n",
    "There are different approaches to solving the problem with minority class:\n",
    "- SMOTE\n",
    "- ROSSE\n",
    "- Cohen's kappa coefficient\n",
    "- Area under the curve\n",
    "- Confusion matrix \n",
    "\n",
    "For this task, we will use SMOTE.\n",
    "\n",
    "We will use F1 macro score to evaluate the models, again because we have a highly imbalanced dataset.\n",
    "\n"
   ]
  },
  {
   "cell_type": "markdown",
   "id": "f88a19cc",
   "metadata": {},
   "source": [
    "### Revenue trend in time"
   ]
  },
  {
   "cell_type": "code",
   "execution_count": 25,
   "id": "4716bca0",
   "metadata": {},
   "outputs": [],
   "source": [
    "revenue_per_month_false = online_shop[online_shop.Revenue == False].groupby('date_time').agg({'Revenue': ['count']}).reset_index()\n",
    "revenue_per_month_false.columns = revenue_per_month_false.columns.droplevel(1)\n",
    "revenue_per_month_false.rename(columns = {'Revenue':'No_purchase'},inplace = True)"
   ]
  },
  {
   "cell_type": "code",
   "execution_count": 26,
   "id": "bcdf88e4",
   "metadata": {},
   "outputs": [
    {
     "data": {
      "text/html": [
       "<div>\n",
       "<style scoped>\n",
       "    .dataframe tbody tr th:only-of-type {\n",
       "        vertical-align: middle;\n",
       "    }\n",
       "\n",
       "    .dataframe tbody tr th {\n",
       "        vertical-align: top;\n",
       "    }\n",
       "\n",
       "    .dataframe thead th {\n",
       "        text-align: right;\n",
       "    }\n",
       "</style>\n",
       "<table border=\"1\" class=\"dataframe\">\n",
       "  <thead>\n",
       "    <tr style=\"text-align: right;\">\n",
       "      <th></th>\n",
       "      <th>date_time</th>\n",
       "      <th>No_purchase</th>\n",
       "    </tr>\n",
       "  </thead>\n",
       "  <tbody>\n",
       "    <tr>\n",
       "      <th>0</th>\n",
       "      <td>2</td>\n",
       "      <td>181</td>\n",
       "    </tr>\n",
       "    <tr>\n",
       "      <th>1</th>\n",
       "      <td>3</td>\n",
       "      <td>1715</td>\n",
       "    </tr>\n",
       "    <tr>\n",
       "      <th>2</th>\n",
       "      <td>5</td>\n",
       "      <td>2999</td>\n",
       "    </tr>\n",
       "    <tr>\n",
       "      <th>3</th>\n",
       "      <td>6</td>\n",
       "      <td>259</td>\n",
       "    </tr>\n",
       "    <tr>\n",
       "      <th>4</th>\n",
       "      <td>7</td>\n",
       "      <td>366</td>\n",
       "    </tr>\n",
       "    <tr>\n",
       "      <th>5</th>\n",
       "      <td>8</td>\n",
       "      <td>357</td>\n",
       "    </tr>\n",
       "    <tr>\n",
       "      <th>6</th>\n",
       "      <td>9</td>\n",
       "      <td>362</td>\n",
       "    </tr>\n",
       "    <tr>\n",
       "      <th>7</th>\n",
       "      <td>10</td>\n",
       "      <td>434</td>\n",
       "    </tr>\n",
       "    <tr>\n",
       "      <th>8</th>\n",
       "      <td>11</td>\n",
       "      <td>2238</td>\n",
       "    </tr>\n",
       "    <tr>\n",
       "      <th>9</th>\n",
       "      <td>12</td>\n",
       "      <td>1511</td>\n",
       "    </tr>\n",
       "  </tbody>\n",
       "</table>\n",
       "</div>"
      ],
      "text/plain": [
       "   date_time  No_purchase\n",
       "0          2          181\n",
       "1          3         1715\n",
       "2          5         2999\n",
       "3          6          259\n",
       "4          7          366\n",
       "5          8          357\n",
       "6          9          362\n",
       "7         10          434\n",
       "8         11         2238\n",
       "9         12         1511"
      ]
     },
     "execution_count": 26,
     "metadata": {},
     "output_type": "execute_result"
    }
   ],
   "source": [
    "revenue_per_month_false"
   ]
  },
  {
   "cell_type": "code",
   "execution_count": 27,
   "id": "be1b412a",
   "metadata": {},
   "outputs": [],
   "source": [
    "revenue_per_month_true = online_shop[online_shop.Revenue == True].groupby('date_time').agg({'Revenue': ['count']}).reset_index()\n",
    "revenue_per_month_true.columns = revenue_per_month_true.columns.droplevel(1)\n",
    "revenue_per_month_true.rename(columns = {'Revenue':'Purchase'},inplace = True)"
   ]
  },
  {
   "cell_type": "code",
   "execution_count": 28,
   "id": "42eccfa3",
   "metadata": {},
   "outputs": [
    {
     "data": {
      "text/html": [
       "<div>\n",
       "<style scoped>\n",
       "    .dataframe tbody tr th:only-of-type {\n",
       "        vertical-align: middle;\n",
       "    }\n",
       "\n",
       "    .dataframe tbody tr th {\n",
       "        vertical-align: top;\n",
       "    }\n",
       "\n",
       "    .dataframe thead th {\n",
       "        text-align: right;\n",
       "    }\n",
       "</style>\n",
       "<table border=\"1\" class=\"dataframe\">\n",
       "  <thead>\n",
       "    <tr style=\"text-align: right;\">\n",
       "      <th></th>\n",
       "      <th>date_time</th>\n",
       "      <th>Purchase</th>\n",
       "    </tr>\n",
       "  </thead>\n",
       "  <tbody>\n",
       "    <tr>\n",
       "      <th>0</th>\n",
       "      <td>2</td>\n",
       "      <td>3</td>\n",
       "    </tr>\n",
       "    <tr>\n",
       "      <th>1</th>\n",
       "      <td>3</td>\n",
       "      <td>192</td>\n",
       "    </tr>\n",
       "    <tr>\n",
       "      <th>2</th>\n",
       "      <td>5</td>\n",
       "      <td>365</td>\n",
       "    </tr>\n",
       "    <tr>\n",
       "      <th>3</th>\n",
       "      <td>6</td>\n",
       "      <td>29</td>\n",
       "    </tr>\n",
       "    <tr>\n",
       "      <th>4</th>\n",
       "      <td>7</td>\n",
       "      <td>66</td>\n",
       "    </tr>\n",
       "    <tr>\n",
       "      <th>5</th>\n",
       "      <td>8</td>\n",
       "      <td>76</td>\n",
       "    </tr>\n",
       "    <tr>\n",
       "      <th>6</th>\n",
       "      <td>9</td>\n",
       "      <td>86</td>\n",
       "    </tr>\n",
       "    <tr>\n",
       "      <th>7</th>\n",
       "      <td>10</td>\n",
       "      <td>115</td>\n",
       "    </tr>\n",
       "    <tr>\n",
       "      <th>8</th>\n",
       "      <td>11</td>\n",
       "      <td>760</td>\n",
       "    </tr>\n",
       "    <tr>\n",
       "      <th>9</th>\n",
       "      <td>12</td>\n",
       "      <td>216</td>\n",
       "    </tr>\n",
       "  </tbody>\n",
       "</table>\n",
       "</div>"
      ],
      "text/plain": [
       "   date_time  Purchase\n",
       "0          2         3\n",
       "1          3       192\n",
       "2          5       365\n",
       "3          6        29\n",
       "4          7        66\n",
       "5          8        76\n",
       "6          9        86\n",
       "7         10       115\n",
       "8         11       760\n",
       "9         12       216"
      ]
     },
     "execution_count": 28,
     "metadata": {},
     "output_type": "execute_result"
    }
   ],
   "source": [
    "revenue_per_month_true"
   ]
  },
  {
   "cell_type": "code",
   "execution_count": 29,
   "id": "9627eca4",
   "metadata": {},
   "outputs": [],
   "source": [
    "revenue_per_month_total = revenue_per_month_true.merge(revenue_per_month_false, on = 'date_time', how = 'left')"
   ]
  },
  {
   "cell_type": "code",
   "execution_count": 30,
   "id": "bc044191",
   "metadata": {},
   "outputs": [],
   "source": [
    "revenue_per_month_total['total_visitors'] = revenue_per_month_total['Purchase'] + revenue_per_month_total['No_purchase']"
   ]
  },
  {
   "cell_type": "code",
   "execution_count": 31,
   "id": "eaed1331",
   "metadata": {},
   "outputs": [],
   "source": [
    "revenue_per_month_total['%'] = ((revenue_per_month_total['Purchase'] / revenue_per_month_total['total_visitors']) *100).round(decimals = 2)"
   ]
  },
  {
   "cell_type": "code",
   "execution_count": 32,
   "id": "2b456052",
   "metadata": {},
   "outputs": [
    {
     "data": {
      "text/html": [
       "<div>\n",
       "<style scoped>\n",
       "    .dataframe tbody tr th:only-of-type {\n",
       "        vertical-align: middle;\n",
       "    }\n",
       "\n",
       "    .dataframe tbody tr th {\n",
       "        vertical-align: top;\n",
       "    }\n",
       "\n",
       "    .dataframe thead th {\n",
       "        text-align: right;\n",
       "    }\n",
       "</style>\n",
       "<table border=\"1\" class=\"dataframe\">\n",
       "  <thead>\n",
       "    <tr style=\"text-align: right;\">\n",
       "      <th></th>\n",
       "      <th>date_time</th>\n",
       "      <th>Purchase</th>\n",
       "      <th>No_purchase</th>\n",
       "      <th>total_visitors</th>\n",
       "      <th>%</th>\n",
       "    </tr>\n",
       "  </thead>\n",
       "  <tbody>\n",
       "    <tr>\n",
       "      <th>0</th>\n",
       "      <td>2</td>\n",
       "      <td>3</td>\n",
       "      <td>181</td>\n",
       "      <td>184</td>\n",
       "      <td>1.63</td>\n",
       "    </tr>\n",
       "    <tr>\n",
       "      <th>1</th>\n",
       "      <td>3</td>\n",
       "      <td>192</td>\n",
       "      <td>1715</td>\n",
       "      <td>1907</td>\n",
       "      <td>10.07</td>\n",
       "    </tr>\n",
       "    <tr>\n",
       "      <th>2</th>\n",
       "      <td>5</td>\n",
       "      <td>365</td>\n",
       "      <td>2999</td>\n",
       "      <td>3364</td>\n",
       "      <td>10.85</td>\n",
       "    </tr>\n",
       "    <tr>\n",
       "      <th>3</th>\n",
       "      <td>6</td>\n",
       "      <td>29</td>\n",
       "      <td>259</td>\n",
       "      <td>288</td>\n",
       "      <td>10.07</td>\n",
       "    </tr>\n",
       "    <tr>\n",
       "      <th>4</th>\n",
       "      <td>7</td>\n",
       "      <td>66</td>\n",
       "      <td>366</td>\n",
       "      <td>432</td>\n",
       "      <td>15.28</td>\n",
       "    </tr>\n",
       "    <tr>\n",
       "      <th>5</th>\n",
       "      <td>8</td>\n",
       "      <td>76</td>\n",
       "      <td>357</td>\n",
       "      <td>433</td>\n",
       "      <td>17.55</td>\n",
       "    </tr>\n",
       "    <tr>\n",
       "      <th>6</th>\n",
       "      <td>9</td>\n",
       "      <td>86</td>\n",
       "      <td>362</td>\n",
       "      <td>448</td>\n",
       "      <td>19.20</td>\n",
       "    </tr>\n",
       "    <tr>\n",
       "      <th>7</th>\n",
       "      <td>10</td>\n",
       "      <td>115</td>\n",
       "      <td>434</td>\n",
       "      <td>549</td>\n",
       "      <td>20.95</td>\n",
       "    </tr>\n",
       "    <tr>\n",
       "      <th>8</th>\n",
       "      <td>11</td>\n",
       "      <td>760</td>\n",
       "      <td>2238</td>\n",
       "      <td>2998</td>\n",
       "      <td>25.35</td>\n",
       "    </tr>\n",
       "    <tr>\n",
       "      <th>9</th>\n",
       "      <td>12</td>\n",
       "      <td>216</td>\n",
       "      <td>1511</td>\n",
       "      <td>1727</td>\n",
       "      <td>12.51</td>\n",
       "    </tr>\n",
       "  </tbody>\n",
       "</table>\n",
       "</div>"
      ],
      "text/plain": [
       "   date_time  Purchase  No_purchase  total_visitors      %\n",
       "0          2         3          181             184   1.63\n",
       "1          3       192         1715            1907  10.07\n",
       "2          5       365         2999            3364  10.85\n",
       "3          6        29          259             288  10.07\n",
       "4          7        66          366             432  15.28\n",
       "5          8        76          357             433  17.55\n",
       "6          9        86          362             448  19.20\n",
       "7         10       115          434             549  20.95\n",
       "8         11       760         2238            2998  25.35\n",
       "9         12       216         1511            1727  12.51"
      ]
     },
     "execution_count": 32,
     "metadata": {},
     "output_type": "execute_result"
    }
   ],
   "source": [
    "revenue_per_month_total"
   ]
  },
  {
   "cell_type": "code",
   "execution_count": 33,
   "id": "7cb7da35",
   "metadata": {
    "scrolled": true
   },
   "outputs": [
    {
     "data": {
      "image/png": "[encoded data removed]",
      "text/plain": [
       "<Figure size 1080x360 with 2 Axes>"
      ]
     },
     "metadata": {
      "needs_background": "light"
     },
     "output_type": "display_data"
    }
   ],
   "source": [
    "fig,ax1 = plt.subplots(figsize=(15,5))\n",
    "fig.patch.set_facecolor('grey')\n",
    "fig.patch.set_alpha(0.3)\n",
    "\n",
    "ax2 = ax1.twinx() # secondary y-axis\n",
    "ax1.bar(revenue_per_month_total['date_time'], revenue_per_month_total['total_visitors'], width=0.5,color = 'orange', align='center')\n",
    "\n",
    "\n",
    "ax2.plot (revenue_per_month_total['date_time'], revenue_per_month_total['%'],'--',linewidth=1.5, marker = 'o', color = 'navy',label = \"% purchase from total visitors\")\n",
    "\n",
    "plt.xticks(revenue_per_month_total['date_time'])\n",
    "ax2.set_ylabel(f'Purchase ratio vs Total visitors [%]')\n",
    "ax1.set_ylabel(f'Total visitors in abs')\n",
    "ax1.set_xlabel(\"Month\")\n",
    "plt.title(f\"Total vistors purchase intentions\", loc = 'left')\n",
    "ax2.legend(loc = \"upper left\")\n",
    "ax2.set_ylim(0,110)\n",
    "offset = 3\n",
    "#offset_2 = 4\n",
    "for i,v in zip(revenue_per_month_total['date_time'],revenue_per_month_total['%']):\n",
    "    plt.annotate(v, (i,v+offset))\n",
    "\n",
    "plt.grid(True)\n",
    "\n",
    "plt.show()"
   ]
  },
  {
   "cell_type": "code",
   "execution_count": 34,
   "id": "bd77becd",
   "metadata": {
    "scrolled": true
   },
   "outputs": [],
   "source": [
    "#purchase_weekend = online_shop[(online_shop.Revenue ==True) &(online_shop.Weekend ==True) ]"
   ]
  },
  {
   "cell_type": "markdown",
   "id": "b285f940",
   "metadata": {},
   "source": [
    "There is a peak in the sales in November, which is expected - most sales are happening around Black Friday in preparation for Christmas gifts."
   ]
  },
  {
   "cell_type": "markdown",
   "id": "2721ebe4",
   "metadata": {},
   "source": [
    "### Purchase weekends vs weekdays and based on types of customers"
   ]
  },
  {
   "cell_type": "code",
   "execution_count": 35,
   "id": "a3a5a166",
   "metadata": {},
   "outputs": [],
   "source": [
    "no_purchase=online_shop[(online_shop.Revenue ==False)]\n",
    "purchase = online_shop[(online_shop.Revenue ==True)]"
   ]
  },
  {
   "cell_type": "code",
   "execution_count": 36,
   "id": "f180b173",
   "metadata": {},
   "outputs": [],
   "source": [
    "no_purchase_weekend = no_purchase.groupby(['VisitorType', 'Weekend']).agg({'Revenue': ['count']}).reset_index()\n",
    "no_purchase_weekend.columns = no_purchase_weekend.columns.droplevel(1)"
   ]
  },
  {
   "cell_type": "code",
   "execution_count": 37,
   "id": "e86f04bc",
   "metadata": {
    "scrolled": false
   },
   "outputs": [
    {
     "data": {
      "text/html": [
       "<div>\n",
       "<style scoped>\n",
       "    .dataframe tbody tr th:only-of-type {\n",
       "        vertical-align: middle;\n",
       "    }\n",
       "\n",
       "    .dataframe tbody tr th {\n",
       "        vertical-align: top;\n",
       "    }\n",
       "\n",
       "    .dataframe thead th {\n",
       "        text-align: right;\n",
       "    }\n",
       "</style>\n",
       "<table border=\"1\" class=\"dataframe\">\n",
       "  <thead>\n",
       "    <tr style=\"text-align: right;\">\n",
       "      <th></th>\n",
       "      <th>VisitorType</th>\n",
       "      <th>Weekend</th>\n",
       "      <th>Revenue</th>\n",
       "    </tr>\n",
       "  </thead>\n",
       "  <tbody>\n",
       "    <tr>\n",
       "      <th>0</th>\n",
       "      <td>New_Visitor</td>\n",
       "      <td>False</td>\n",
       "      <td>898</td>\n",
       "    </tr>\n",
       "    <tr>\n",
       "      <th>2</th>\n",
       "      <td>Other</td>\n",
       "      <td>False</td>\n",
       "      <td>63</td>\n",
       "    </tr>\n",
       "    <tr>\n",
       "      <th>4</th>\n",
       "      <td>Returning_Visitor</td>\n",
       "      <td>False</td>\n",
       "      <td>7092</td>\n",
       "    </tr>\n",
       "  </tbody>\n",
       "</table>\n",
       "</div>"
      ],
      "text/plain": [
       "         VisitorType  Weekend  Revenue\n",
       "0        New_Visitor    False      898\n",
       "2              Other    False       63\n",
       "4  Returning_Visitor    False     7092"
      ]
     },
     "execution_count": 37,
     "metadata": {},
     "output_type": "execute_result"
    }
   ],
   "source": [
    "no_purchase_weekend[no_purchase_weekend.Weekend == False]"
   ]
  },
  {
   "cell_type": "code",
   "execution_count": 38,
   "id": "ca2ce387",
   "metadata": {},
   "outputs": [],
   "source": [
    "\n",
    "purchase_weekend = purchase.groupby(['VisitorType', 'Weekend']).agg({'Revenue': ['count']}).reset_index()\n",
    "purchase_weekend.columns = purchase_weekend.columns.droplevel(1)"
   ]
  },
  {
   "cell_type": "code",
   "execution_count": 40,
   "id": "c1dccfd7",
   "metadata": {},
   "outputs": [],
   "source": [
    "def plot_comparison(df1, df2, title,label_1, label_2,ticks,n):\n",
    "    plt.figure(figsize=(15,5))\n",
    "    fig.patch.set_facecolor('grey')\n",
    "    fig.patch.set_alpha(0.3)\n",
    "    width = 0.3 \n",
    "    ind = np.arange(n)\n",
    "    plt.bar(ind, df1 , width, label=label_1)\n",
    "    plt.bar(ind + width, df2, width, label=label_2)\n",
    "\n",
    "    plt.xlabel('Stats')\n",
    "    plt.ylabel('Count stats' )\n",
    "    plt.title(title)\n",
    "\n",
    "    plt.xticks(ind + width / 2, ticks)\n",
    "    plt.grid(False)\n",
    "    plt.legend(loc='best')\n",
    "    plt.show()"
   ]
  },
  {
   "cell_type": "code",
   "execution_count": 41,
   "id": "092e0676",
   "metadata": {},
   "outputs": [
    {
     "data": {
      "image/png": "[encoded data removed]",
      "text/plain": [
       "<Figure size 1080x360 with 1 Axes>"
      ]
     },
     "metadata": {
      "needs_background": "light"
     },
     "output_type": "display_data"
    }
   ],
   "source": [
    "plot_comparison(\n",
    "no_purchase_weekend[no_purchase_weekend.Weekend == False]['Revenue'],\n",
    "\n",
    "no_purchase_weekend[no_purchase_weekend.Weekend == True]['Revenue'],\n",
    "\n",
    "'Visitors weekend vs weekday no purchase',\n",
    "\n",
    "'No purchase workday',\n",
    "    \n",
    "'No purchase weekend',\n",
    "\n",
    "\n",
    "('New_Visitor','Other','Returning_Visitor'),\n",
    "\n",
    "3\n",
    "\n",
    ")\n",
    "\n",
    "\n",
    "\n"
   ]
  },
  {
   "cell_type": "code",
   "execution_count": 42,
   "id": "b9e34a64",
   "metadata": {},
   "outputs": [
    {
     "data": {
      "image/png": "[encoded data removed]",
      "text/plain": [
       "<Figure size 1080x360 with 1 Axes>"
      ]
     },
     "metadata": {
      "needs_background": "light"
     },
     "output_type": "display_data"
    }
   ],
   "source": [
    "plot_comparison(\n",
    "purchase_weekend[purchase_weekend.Weekend == False]['Revenue'],\n",
    "\n",
    "purchase_weekend[purchase_weekend.Weekend == True]['Revenue'],\n",
    "\n",
    "'Visitors weekend vs weekday purchase',\n",
    "\n",
    "'Purchase workday',\n",
    "    \n",
    "'Purchase weekend',\n",
    "\n",
    "\n",
    "('New_Visitor','Other','Returning_Visitor'),\n",
    "\n",
    "3\n",
    "\n",
    ")"
   ]
  },
  {
   "cell_type": "markdown",
   "id": "65bd3a8f",
   "metadata": {},
   "source": [
    "### Purchase operating system"
   ]
  },
  {
   "cell_type": "code",
   "execution_count": 46,
   "id": "4f1da5e9",
   "metadata": {},
   "outputs": [],
   "source": [
    "no_purchase_op_sys = no_purchase.groupby(['OperatingSystems']).agg({'Revenue': ['count']}).reset_index()\n",
    "no_purchase_op_sys.columns = no_purchase_op_sys.columns.droplevel(1)"
   ]
  },
  {
   "cell_type": "code",
   "execution_count": 47,
   "id": "78c55f32",
   "metadata": {},
   "outputs": [],
   "source": [
    "purchase_op_sys = purchase.groupby(['OperatingSystems']).agg({'Revenue': ['count']}).reset_index()\n",
    "purchase_op_sys.columns = purchase_op_sys.columns.droplevel(1)"
   ]
  },
  {
   "cell_type": "code",
   "execution_count": 48,
   "id": "5cc6205d",
   "metadata": {},
   "outputs": [
    {
     "data": {
      "text/plain": [
       "0    1\n",
       "1    2\n",
       "2    3\n",
       "3    4\n",
       "4    5\n",
       "5    6\n",
       "6    7\n",
       "7    8\n",
       "Name: OperatingSystems, dtype: int64"
      ]
     },
     "execution_count": 48,
     "metadata": {},
     "output_type": "execute_result"
    }
   ],
   "source": [
    "no_purchase_op_sys['OperatingSystems']"
   ]
  },
  {
   "cell_type": "code",
   "execution_count": 49,
   "id": "85cc3c60",
   "metadata": {},
   "outputs": [
    {
     "data": {
      "image/png": "[encoded data removed]",
      "text/plain": [
       "<Figure size 1080x360 with 1 Axes>"
      ]
     },
     "metadata": {
      "needs_background": "light"
     },
     "output_type": "display_data"
    }
   ],
   "source": [
    "plot_comparison(\n",
    "purchase_op_sys['Revenue'],\n",
    "\n",
    "no_purchase_op_sys['Revenue'],\n",
    "\n",
    "'Operating system purchase vs no Purchase',\n",
    "\n",
    "'Purchase',\n",
    "    \n",
    "'No purchase',\n",
    "\n",
    "\n",
    "(1,2,3,4,5,6,7,8),\n",
    "\n",
    "8\n",
    "\n",
    ")"
   ]
  },
  {
   "cell_type": "markdown",
   "id": "406d5240",
   "metadata": {},
   "source": [
    "### Region Purchase"
   ]
  },
  {
   "cell_type": "code",
   "execution_count": 50,
   "id": "c7f49ea1",
   "metadata": {},
   "outputs": [],
   "source": [
    "purchase_region = purchase.groupby(['Region']).agg({'Revenue': ['count']}).reset_index()\n",
    "purchase_region.columns = purchase_region.columns.droplevel(1)"
   ]
  },
  {
   "cell_type": "code",
   "execution_count": 51,
   "id": "48d4f46a",
   "metadata": {},
   "outputs": [],
   "source": [
    "no_purchase_region = no_purchase.groupby(['Region']).agg({'Revenue': ['count']}).reset_index()\n",
    "no_purchase_region.columns = no_purchase_region.columns.droplevel(1)"
   ]
  },
  {
   "cell_type": "code",
   "execution_count": 52,
   "id": "62a3f1a8",
   "metadata": {},
   "outputs": [
    {
     "data": {
      "image/png": "[encoded data removed]",
      "text/plain": [
       "<Figure size 1080x360 with 1 Axes>"
      ]
     },
     "metadata": {
      "needs_background": "light"
     },
     "output_type": "display_data"
    }
   ],
   "source": [
    "plot_comparison(\n",
    "purchase_region['Revenue'],\n",
    "\n",
    "no_purchase_region['Revenue'],\n",
    "\n",
    "'Purchase based on region',\n",
    "\n",
    "'Purchase',\n",
    "    \n",
    "'No purchase',\n",
    "\n",
    "\n",
    "(1,2,3,4,5,6,7,8,9),\n",
    "\n",
    "9\n",
    "\n",
    ")"
   ]
  },
  {
   "cell_type": "markdown",
   "id": "153599ac",
   "metadata": {},
   "source": [
    "### 3. Prepare data for modelling\n",
    "#### Convert categorical data to numerical"
   ]
  },
  {
   "cell_type": "code",
   "execution_count": 54,
   "id": "e017fb52",
   "metadata": {},
   "outputs": [],
   "source": [
    "online_shop_model = online_shop"
   ]
  },
  {
   "cell_type": "code",
   "execution_count": 55,
   "id": "7bd9fdd9",
   "metadata": {
    "scrolled": false
   },
   "outputs": [
    {
     "data": {
      "text/plain": [
       "Administrative               int64\n",
       "Administrative_Duration    float64\n",
       "Informational                int64\n",
       "Informational_Duration     float64\n",
       "ProductRelated               int64\n",
       "ProductRelated_Duration    float64\n",
       "BounceRates                float64\n",
       "ExitRates                  float64\n",
       "PageValues                 float64\n",
       "SpecialDay                 float64\n",
       "Month                       object\n",
       "OperatingSystems             int64\n",
       "Browser                      int64\n",
       "Region                       int64\n",
       "TrafficType                  int64\n",
       "VisitorType                 object\n",
       "Weekend                       bool\n",
       "Revenue                       bool\n",
       "date_time                    int64\n",
       "dtype: object"
      ]
     },
     "execution_count": 55,
     "metadata": {},
     "output_type": "execute_result"
    }
   ],
   "source": [
    "online_shop_model.dtypes"
   ]
  },
  {
   "cell_type": "code",
   "execution_count": 56,
   "id": "18e9ce95",
   "metadata": {},
   "outputs": [],
   "source": [
    "\n",
    "le = LabelEncoder()\n",
    "\n",
    "online_shop_model['Weekend_numeric'] = le.fit_transform(online_shop_model['Weekend'])\n",
    "online_shop_model['Revenue_numeric'] = le.fit_transform(online_shop_model['Revenue'])"
   ]
  },
  {
   "cell_type": "code",
   "execution_count": 57,
   "id": "0f805b59",
   "metadata": {},
   "outputs": [],
   "source": [
    "online_shop_model = online_shop_model.drop(columns = ['date_time','Weekend', 'Revenue'])"
   ]
  },
  {
   "cell_type": "code",
   "execution_count": 61,
   "id": "d52b5208",
   "metadata": {},
   "outputs": [],
   "source": [
    "online_shop_model = pd.get_dummies(online_shop_model, columns = ['Month','OperatingSystems','Browser','Region','TrafficType','VisitorType'])"
   ]
  },
  {
   "cell_type": "code",
   "execution_count": 148,
   "id": "a7d91994",
   "metadata": {},
   "outputs": [
    {
     "data": {
      "text/plain": [
       "(12330, 75)"
      ]
     },
     "execution_count": 148,
     "metadata": {},
     "output_type": "execute_result"
    }
   ],
   "source": [
    "online_shop_model.shape"
   ]
  },
  {
   "cell_type": "markdown",
   "id": "f60f741a",
   "metadata": {},
   "source": [
    "### PCA"
   ]
  },
  {
   "cell_type": "markdown",
   "id": "82d463bf",
   "metadata": {},
   "source": [
    "### Dimensionality Reduction with PCA"
   ]
  },
  {
   "cell_type": "markdown",
   "id": "fb21c3a8",
   "metadata": {},
   "source": [
    "We will use PCA to reduce the dimensionality of the vectorized lyrics ( we will not work with  the whole vocabulary). We want to reduce the dataset in order to get 95% of the variance."
   ]
  },
  {
   "cell_type": "code",
   "execution_count": 63,
   "id": "bad3aa39",
   "metadata": {},
   "outputs": [],
   "source": [
    "### Month, VisitorType, Weekend and Target Value Revenue has to be converted to numeric data\n",
    "\n",
    "online_shop_features =online_shop_model.drop(columns=['Revenue_numeric'],axis=1)\n",
    "online_shop_target=online_shop_model['Revenue_numeric']"
   ]
  },
  {
   "cell_type": "code",
   "execution_count": 67,
   "id": "c6927ff8",
   "metadata": {},
   "outputs": [],
   "source": [
    "### We have to scale the data\n",
    "\n",
    "\n",
    "ss=StandardScaler()\n",
    "scaled_features=ss.fit_transform(online_shop_features)"
   ]
  },
  {
   "cell_type": "code",
   "execution_count": 68,
   "id": "78a5da69",
   "metadata": {},
   "outputs": [],
   "source": [
    "pca = PCA()\n",
    "pca_ = pca.fit_transform(scaled_features)"
   ]
  },
  {
   "cell_type": "code",
   "execution_count": 69,
   "id": "480ca839",
   "metadata": {},
   "outputs": [
    {
     "data": {
      "text/plain": [
       "array([[-4.65607137e+00, -5.06684091e-01, -2.16430313e+00, ...,\n",
       "        -3.92022853e-15, -9.36958655e-16,  8.87268789e-18],\n",
       "       [-1.11834592e+00, -7.62488058e-01,  6.44851458e-01, ...,\n",
       "        -2.56299204e-15,  2.42086714e-15, -1.40364994e-15],\n",
       "       [-4.75112122e+00,  5.88172366e-01, -1.06767141e+00, ...,\n",
       "        -3.27363335e-15, -7.54788866e-15,  2.63083224e-15],\n",
       "       ...,\n",
       "       [-1.44951568e+00, -1.22567960e+00,  1.17087136e+00, ...,\n",
       "         1.27847247e-17, -4.88794954e-17,  8.05536743e-17],\n",
       "       [ 4.24305140e-01, -4.72243453e-01,  7.87281654e-01, ...,\n",
       "        -1.55408838e-16, -1.04033926e-16,  1.07985440e-16],\n",
       "       [-1.36842474e-01,  1.02635613e+00, -1.97301214e-01, ...,\n",
       "         6.75729289e-17, -2.38705361e-16,  8.50617432e-17]])"
      ]
     },
     "execution_count": 69,
     "metadata": {},
     "output_type": "execute_result"
    }
   ],
   "source": [
    "pca_"
   ]
  },
  {
   "cell_type": "code",
   "execution_count": 70,
   "id": "9d27756d",
   "metadata": {},
   "outputs": [],
   "source": [
    "explained_variance_ratio_sum = np.cumsum(pca.explained_variance_ratio_)"
   ]
  },
  {
   "cell_type": "code",
   "execution_count": 71,
   "id": "18b16930",
   "metadata": {},
   "outputs": [],
   "source": [
    "def plot_cum_expl_var(data):\n",
    "    plt.figure(figsize=(6, 4))\n",
    "    plt.plot(range(data.shape[1]), explained_variance_ratio_sum)\n",
    "    plt.axvline(np.where(explained_variance_ratio_sum >= 0.95)[0][0] + 1, color=\"green\", linestyle=\"--\", label = '95% explained variance')\n",
    "    plt.axvline(np.where(explained_variance_ratio_sum >= 0.90)[0][0] + 1, color=\"orange\", linestyle=\"--\", label = '90% explained variance')\n",
    "    plt.axvline(np.where(explained_variance_ratio_sum >= 0.80)[0][0] + 1, color=\"red\", linestyle=\"--\",label = '80% explained variance')\n",
    "    \n",
    "    \n",
    "    \n",
    "    plt.legend()\n",
    "    plt.title(\"PCA explained variance vs number of components\")\n",
    "    plt.xlabel('number of components')\n",
    "    plt.ylabel('cumulative explained variance [%]')\n",
    "    plt.show()"
   ]
  },
  {
   "cell_type": "code",
   "execution_count": 72,
   "id": "9f1b450e",
   "metadata": {},
   "outputs": [
    {
     "data": {
      "image/png": "[encoded data removed]",
      "text/plain": [
       "<Figure size 432x288 with 1 Axes>"
      ]
     },
     "metadata": {
      "needs_background": "light"
     },
     "output_type": "display_data"
    }
   ],
   "source": [
    "plot_cum_expl_var(pca_)"
   ]
  },
  {
   "cell_type": "code",
   "execution_count": 73,
   "id": "154757f4",
   "metadata": {},
   "outputs": [],
   "source": [
    "pca_95 = PCA(n_components = 0.95)\n",
    "pca_reduced = pca_95.fit_transform(scaled_features)"
   ]
  },
  {
   "cell_type": "code",
   "execution_count": 74,
   "id": "5df865f0",
   "metadata": {},
   "outputs": [
    {
     "data": {
      "text/plain": [
       "(12330, 57)"
      ]
     },
     "execution_count": 74,
     "metadata": {},
     "output_type": "execute_result"
    }
   ],
   "source": [
    "pca_reduced.shape"
   ]
  },
  {
   "cell_type": "code",
   "execution_count": 75,
   "id": "78955321",
   "metadata": {},
   "outputs": [
    {
     "data": {
      "text/plain": [
       "array([0, 1], dtype=int64)"
      ]
     },
     "execution_count": 75,
     "metadata": {},
     "output_type": "execute_result"
    }
   ],
   "source": [
    "online_shop_target.unique()"
   ]
  },
  {
   "cell_type": "code",
   "execution_count": 76,
   "id": "5c7cedcc",
   "metadata": {},
   "outputs": [],
   "source": [
    "x_features = pca_reduced\n",
    "y_target = online_shop_target"
   ]
  },
  {
   "cell_type": "code",
   "execution_count": 77,
   "id": "d70ba9f6",
   "metadata": {},
   "outputs": [],
   "source": [
    "x_train, x_test, y_train, y_test = train_test_split(x_features, y_target, test_size=0.2, random_state=42)"
   ]
  },
  {
   "cell_type": "code",
   "execution_count": 92,
   "id": "79a533e6",
   "metadata": {},
   "outputs": [
    {
     "data": {
      "text/plain": [
       "(9864, 57)"
      ]
     },
     "execution_count": 92,
     "metadata": {},
     "output_type": "execute_result"
    }
   ],
   "source": [
    "x_train.shape"
   ]
  },
  {
   "cell_type": "markdown",
   "id": "606c707c",
   "metadata": {},
   "source": [
    "### SMOTE\n",
    "\n",
    "SMOTE solves the problem with imbalanced data by oversampling the examples in the minority class. SMOTE works by selecting examples that are close in the feature space, drawing a line between the examples in the feature space and drawing a new sample at a point along that line"
   ]
  },
  {
   "cell_type": "code",
   "execution_count": 98,
   "id": "3d5f2400",
   "metadata": {},
   "outputs": [],
   "source": [
    "\n",
    "oversample = SMOTE()\n",
    "x_train_sm,y_train_sm = oversample.fit_resample(x_train,y_train)\n"
   ]
  },
  {
   "cell_type": "code",
   "execution_count": 99,
   "id": "6ca2370c",
   "metadata": {},
   "outputs": [
    {
     "data": {
      "text/plain": [
       "0    8367\n",
       "1    1497\n",
       "Name: Revenue_numeric, dtype: int64"
      ]
     },
     "execution_count": 99,
     "metadata": {},
     "output_type": "execute_result"
    }
   ],
   "source": [
    "### before resampling\n",
    "pd.Series(y_train).value_counts()"
   ]
  },
  {
   "cell_type": "code",
   "execution_count": 100,
   "id": "ccf8b170",
   "metadata": {},
   "outputs": [
    {
     "data": {
      "text/plain": [
       "1    8367\n",
       "0    8367\n",
       "Name: Revenue_numeric, dtype: int64"
      ]
     },
     "execution_count": 100,
     "metadata": {},
     "output_type": "execute_result"
    }
   ],
   "source": [
    "### after resampling\n",
    "pd.Series(y_train_sm).value_counts()"
   ]
  },
  {
   "cell_type": "markdown",
   "id": "f9d37404",
   "metadata": {},
   "source": [
    "### Cross validation of  the data with K-Fold\n",
    "\n",
    "To evaluate the performance of the classification algorithm used in this study we will apply k-fold cross validation. Generally, when the amount of data is large, k-fold cross-validation should be employed\n",
    "to estimate the accuracy of the model, because the accuracy resulting from the training data of the model\n",
    "is usually too optimistic. For example, when 80% of the data is used for training and 20%\n",
    "of the data as test set, it is possible that the test set happens to contain data points that are particularly\n",
    "easy (or hard) to predict. By adding Stratified we ensure that each fold of dataset has the same proportion of observations with a given label."
   ]
  },
  {
   "cell_type": "code",
   "execution_count": 97,
   "id": "63246b16",
   "metadata": {},
   "outputs": [],
   "source": [
    "k_fold = StratifiedKFold(n_splits=4, shuffle=True, random_state=42)"
   ]
  },
  {
   "cell_type": "markdown",
   "id": "08a798ab",
   "metadata": {},
   "source": [
    "### 4.1  Baseline Classifier \n",
    "### Naive  Bayes Classifiers\n",
    "### Gaussian NB"
   ]
  },
  {
   "cell_type": "markdown",
   "id": "c7e72d2e",
   "metadata": {},
   "source": [
    "Naive Bayes classifiers are probabilistic classifiers that calculate the probability of each category using Bayes’ theorem, and output the category with the highest probability. It is known for its simplicity, accuracy, and speed.  \n",
    "\n",
    "Gaussian NB  can work with negative values and we can test it without rescaling the data. In this classifier, the assumption is that data from each label is drawn from a simple Gaussian distribution"
   ]
  },
  {
   "cell_type": "code",
   "execution_count": 134,
   "id": "0bdd05da",
   "metadata": {},
   "outputs": [
    {
     "name": "stdout",
     "output_type": "stream",
     "text": [
      "Gaussian NB best score: 0.5985477226682094\n"
     ]
    }
   ],
   "source": [
    "params_G_NB = {'var_smoothing': np.logspace(0,-9, num=100)}\n",
    "grid_search_g_nb = GridSearchCV(estimator = GaussianNB(),param_grid = params_G_NB, cv = k_fold, scoring=\"f1_macro\")\n",
    "grid_search_g_nb.fit(x_train_sm, y_train_sm)\n",
    "g_nb  = grid_search_g_nb.best_estimator_\n",
    "\n",
    "print(\"Gaussian NB best score:\", grid_search_g_nb.best_score_)"
   ]
  },
  {
   "cell_type": "code",
   "execution_count": 135,
   "id": "c71cf6f7",
   "metadata": {},
   "outputs": [],
   "source": [
    "gaussian_g_nb_test = grid_search_g_nb.score(x_test, y_test)"
   ]
  },
  {
   "cell_type": "code",
   "execution_count": 136,
   "id": "bb40787c",
   "metadata": {},
   "outputs": [
    {
     "data": {
      "text/plain": [
       "0.4306758517966859"
      ]
     },
     "execution_count": 136,
     "metadata": {},
     "output_type": "execute_result"
    }
   ],
   "source": [
    "gaussian_g_nb_test"
   ]
  },
  {
   "cell_type": "code",
   "execution_count": 137,
   "id": "96d4fafd",
   "metadata": {},
   "outputs": [],
   "source": [
    "def print_scores(model_eval):\n",
    "    predictions = model_eval.predict(x_test)\n",
    "    predictions_probabilities = model_eval.predict_proba(x_test)\n",
    "    print(classification_report(y_test, predictions))"
   ]
  },
  {
   "cell_type": "code",
   "execution_count": 138,
   "id": "7ac47557",
   "metadata": {},
   "outputs": [
    {
     "name": "stdout",
     "output_type": "stream",
     "text": [
      "              precision    recall  f1-score   support\n",
      "\n",
      "           0       0.92      0.37      0.53      2055\n",
      "           1       0.21      0.83      0.33       411\n",
      "\n",
      "    accuracy                           0.45      2466\n",
      "   macro avg       0.56      0.60      0.43      2466\n",
      "weighted avg       0.80      0.45      0.49      2466\n",
      "\n"
     ]
    }
   ],
   "source": [
    "print_scores(grid_search_g_nb)"
   ]
  },
  {
   "cell_type": "code",
   "execution_count": 139,
   "id": "aafeec11",
   "metadata": {},
   "outputs": [],
   "source": [
    "def plot_confusion_matrix(model_eval):\n",
    "    conf_matrix = confusion_matrix(y_test, model_eval.predict(x_test), labels=np.unique(y_test))\n",
    "    plt.figure(figsize=(10, 10))\n",
    "    plt.title(\"Confusion matrix\")\n",
    "    display = ConfusionMatrixDisplay(conf_matrix, display_labels=np.unique(y_test))\n",
    "\n",
    "    display.plot(ax=plt.gca())\n",
    "    plt.show()"
   ]
  },
  {
   "cell_type": "code",
   "execution_count": 142,
   "id": "e2985227",
   "metadata": {},
   "outputs": [
    {
     "data": {
      "image/png": "[encoded data removed]",
      "text/plain": [
       "<Figure size 720x720 with 2 Axes>"
      ]
     },
     "metadata": {
      "needs_background": "light"
     },
     "output_type": "display_data"
    }
   ],
   "source": [
    "plot_confusion_matrix(grid_search_g_nb)"
   ]
  },
  {
   "cell_type": "markdown",
   "id": "58c1bfa3",
   "metadata": {},
   "source": [
    "### 4.2 Random Forest Classifier"
   ]
  },
  {
   "cell_type": "code",
   "execution_count": 141,
   "id": "dabe87fa",
   "metadata": {},
   "outputs": [
    {
     "name": "stdout",
     "output_type": "stream",
     "text": [
      "Random forest best score: 0.9348471853290019\n"
     ]
    }
   ],
   "source": [
    "params = {'n_estimators':[100, 200, 300], 'max_depth' : [20, 50, 100],'criterion' : ['gini', 'entropy']}\n",
    "grid_search = GridSearchCV(estimator = RandomForestClassifier(),param_grid = params, cv = k_fold, scoring=\"f1_macro\")\n",
    "grid_search.fit(x_train_sm, y_train_sm)\n",
    "forest_classifier  = grid_search.best_estimator_\n",
    "\n",
    "print(\"Random forest best score:\", grid_search.best_score_)"
   ]
  },
  {
   "cell_type": "code",
   "execution_count": 143,
   "id": "79584e9c",
   "metadata": {},
   "outputs": [
    {
     "data": {
      "text/plain": [
       "{'criterion': 'gini', 'max_depth': 50, 'n_estimators': 200}"
      ]
     },
     "execution_count": 143,
     "metadata": {},
     "output_type": "execute_result"
    }
   ],
   "source": [
    "grid_search.best_params_"
   ]
  },
  {
   "cell_type": "code",
   "execution_count": 144,
   "id": "06170888",
   "metadata": {},
   "outputs": [],
   "source": [
    "forest_classifier_testing_score = grid_search.score(x_test, y_test)"
   ]
  },
  {
   "cell_type": "code",
   "execution_count": 145,
   "id": "d783d8ae",
   "metadata": {},
   "outputs": [
    {
     "data": {
      "text/plain": [
       "0.7227652454783242"
      ]
     },
     "execution_count": 145,
     "metadata": {},
     "output_type": "execute_result"
    }
   ],
   "source": [
    "forest_classifier_testing_score"
   ]
  },
  {
   "cell_type": "code",
   "execution_count": 146,
   "id": "ab17f806",
   "metadata": {},
   "outputs": [
    {
     "name": "stdout",
     "output_type": "stream",
     "text": [
      "              precision    recall  f1-score   support\n",
      "\n",
      "           0       0.90      0.93      0.92      2055\n",
      "           1       0.59      0.48      0.53       411\n",
      "\n",
      "    accuracy                           0.86      2466\n",
      "   macro avg       0.74      0.71      0.72      2466\n",
      "weighted avg       0.85      0.86      0.85      2466\n",
      "\n"
     ]
    }
   ],
   "source": [
    "print_scores(grid_search)"
   ]
  },
  {
   "cell_type": "code",
   "execution_count": 147,
   "id": "d749b049",
   "metadata": {},
   "outputs": [
    {
     "data": {
      "image/png": "[encoded data removed]",
      "text/plain": [
       "<Figure size 720x720 with 2 Axes>"
      ]
     },
     "metadata": {
      "needs_background": "light"
     },
     "output_type": "display_data"
    }
   ],
   "source": [
    "plot_confusion_matrix(grid_search)"
   ]
  },
  {
   "cell_type": "markdown",
   "id": "3b00e377",
   "metadata": {},
   "source": [
    "### 4.3  Ada Boost Classifier with Logistic Regression"
   ]
  },
  {
   "cell_type": "code",
   "execution_count": 128,
   "id": "88ed4228",
   "metadata": {},
   "outputs": [
    {
     "name": "stderr",
     "output_type": "stream",
     "text": [
      "D:\\Anaconda3\\lib\\site-packages\\sklearn\\ensemble\\_base.py:166: FutureWarning: `base_estimator` was renamed to `estimator` in version 1.2 and will be removed in 1.4.\n",
      "  warnings.warn(\n",
      "D:\\Anaconda3\\lib\\site-packages\\sklearn\\ensemble\\_base.py:166: FutureWarning: `base_estimator` was renamed to `estimator` in version 1.2 and will be removed in 1.4.\n",
      "  warnings.warn(\n",
      "D:\\Anaconda3\\lib\\site-packages\\sklearn\\ensemble\\_base.py:166: FutureWarning: `base_estimator` was renamed to `estimator` in version 1.2 and will be removed in 1.4.\n",
      "  warnings.warn(\n",
      "D:\\Anaconda3\\lib\\site-packages\\sklearn\\ensemble\\_base.py:166: FutureWarning: `base_estimator` was renamed to `estimator` in version 1.2 and will be removed in 1.4.\n",
      "  warnings.warn(\n",
      "D:\\Anaconda3\\lib\\site-packages\\sklearn\\ensemble\\_base.py:166: FutureWarning: `base_estimator` was renamed to `estimator` in version 1.2 and will be removed in 1.4.\n",
      "  warnings.warn(\n",
      "D:\\Anaconda3\\lib\\site-packages\\sklearn\\ensemble\\_base.py:166: FutureWarning: `base_estimator` was renamed to `estimator` in version 1.2 and will be removed in 1.4.\n",
      "  warnings.warn(\n",
      "D:\\Anaconda3\\lib\\site-packages\\sklearn\\ensemble\\_base.py:166: FutureWarning: `base_estimator` was renamed to `estimator` in version 1.2 and will be removed in 1.4.\n",
      "  warnings.warn(\n",
      "D:\\Anaconda3\\lib\\site-packages\\sklearn\\ensemble\\_base.py:166: FutureWarning: `base_estimator` was renamed to `estimator` in version 1.2 and will be removed in 1.4.\n",
      "  warnings.warn(\n",
      "D:\\Anaconda3\\lib\\site-packages\\sklearn\\ensemble\\_base.py:166: FutureWarning: `base_estimator` was renamed to `estimator` in version 1.2 and will be removed in 1.4.\n",
      "  warnings.warn(\n"
     ]
    },
    {
     "name": "stdout",
     "output_type": "stream",
     "text": [
      "Ada Boost with Logistic Regression; best score: 0.7991948918883813\n"
     ]
    }
   ],
   "source": [
    "\n",
    "params_ada = {\"n_estimators\": [100,150], \"base_estimator\": [LogisticRegression(C = 1e5, solver='liblinear')]}\n",
    "grid_search_ada = GridSearchCV(estimator = AdaBoostClassifier(),param_grid = params_ada, cv = k_fold, scoring=\"f1_macro\")\n",
    "grid_search_ada.fit(x_train_sm, y_train_sm)\n",
    "ada_forest_classifier  = grid_search_ada.best_estimator_\n",
    "\n",
    "print(\"Ada Boost with Logistic Regression; best score:\", grid_search_ada.best_score_)"
   ]
  },
  {
   "cell_type": "code",
   "execution_count": 129,
   "id": "d64a2dce",
   "metadata": {},
   "outputs": [
    {
     "data": {
      "text/plain": [
       "{'base_estimator': LogisticRegression(C=100000.0, solver='liblinear'),\n",
       " 'n_estimators': 100}"
      ]
     },
     "execution_count": 129,
     "metadata": {},
     "output_type": "execute_result"
    }
   ],
   "source": [
    "grid_search_ada.best_params_"
   ]
  },
  {
   "cell_type": "code",
   "execution_count": 130,
   "id": "b2db3d3e",
   "metadata": {},
   "outputs": [],
   "source": [
    "ada_logistic_testing_score = grid_search_ada.score(x_test, y_test)"
   ]
  },
  {
   "cell_type": "code",
   "execution_count": 131,
   "id": "11dfc919",
   "metadata": {},
   "outputs": [
    {
     "data": {
      "text/plain": [
       "0.7067944740670102"
      ]
     },
     "execution_count": 131,
     "metadata": {},
     "output_type": "execute_result"
    }
   ],
   "source": [
    "ada_logistic_testing_score"
   ]
  },
  {
   "cell_type": "code",
   "execution_count": 132,
   "id": "5ae5562d",
   "metadata": {},
   "outputs": [
    {
     "name": "stdout",
     "output_type": "stream",
     "text": [
      "              precision    recall  f1-score   support\n",
      "\n",
      "           0       0.93      0.82      0.87      2055\n",
      "           1       0.44      0.70      0.54       411\n",
      "\n",
      "    accuracy                           0.80      2466\n",
      "   macro avg       0.69      0.76      0.71      2466\n",
      "weighted avg       0.85      0.80      0.82      2466\n",
      "\n"
     ]
    }
   ],
   "source": [
    "print_scores(grid_search_ada)"
   ]
  },
  {
   "cell_type": "code",
   "execution_count": 133,
   "id": "9a70e7d3",
   "metadata": {
    "scrolled": true
   },
   "outputs": [
    {
     "data": {
      "image/png": "[encoded data removed]",
      "text/plain": [
       "<Figure size 720x720 with 2 Axes>"
      ]
     },
     "metadata": {
      "needs_background": "light"
     },
     "output_type": "display_data"
    }
   ],
   "source": [
    "plot_confusion_matrix(grid_search_ada)"
   ]
  },
  {
   "cell_type": "markdown",
   "id": "12ad6d8c",
   "metadata": {},
   "source": [
    "### Conclusion\n",
    "\n",
    "As we expected, even though we have approached the problem with imbalanced data, the model still performs better in predicting the majority class. In reality, most visits to online shops do not end with a purchase. Random forest classifier has a 0.93 f1 score for predicting class 0 or no purchase, ada boost with Logistic Regression has the highest score of 0.54 for predicting class 1 or purchase.\n",
    "\n",
    "This kind of predictive models can be applied to most online and offline shops or to any other classification, where one of the classes is highly over-represented.\n",
    "\n",
    " \n"
   ]
  }
 ],
 "metadata": {
  "kernelspec": {
   "display_name": "Python 3 (ipykernel)",
   "language": "python",
   "name": "python3"
  },
  "language_info": {
   "codemirror_mode": {
    "name": "ipython",
    "version": 3
   },
   "file_extension": ".py",
   "mimetype": "text/x-python",
   "name": "python",
   "nbconvert_exporter": "python",
   "pygments_lexer": "ipython3",
   "version": "3.9.7"
  }
 },
 "nbformat": 4,
 "nbformat_minor": 5
}
